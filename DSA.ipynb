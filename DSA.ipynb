{
  "nbformat": 4,
  "nbformat_minor": 0,
  "metadata": {
    "colab": {
      "provenance": [],
      "authorship_tag": "ABX9TyOpMYaRlgSEan3sAv6ieU3+",
      "include_colab_link": true
    },
    "kernelspec": {
      "name": "python3",
      "display_name": "Python 3"
    },
    "language_info": {
      "name": "python"
    }
  },
  "cells": [
    {
      "cell_type": "markdown",
      "metadata": {
        "id": "view-in-github",
        "colab_type": "text"
      },
      "source": [
        "<a href=\"https://colab.research.google.com/github/smomtahe/ai/blob/main/DSA.ipynb\" target=\"_parent\"><img src=\"https://colab.research.google.com/assets/colab-badge.svg\" alt=\"Open In Colab\"/></a>"
      ]
    },
    {
      "cell_type": "code",
      "source": [
        "# Question: Given a string \"hello world\", can you write a Python function to reverse the string?\n",
        "def str_rev(s):\n",
        "\n",
        "  return s[::-1] # all s but in reverse direction\n",
        "\n",
        "string= \"hello\"\n",
        "print(str_rev(string)) # \"olleh\"\n",
        "#s[::-1] s[start:stop:step] : mean begining=0 : end:len(s) step:default:1->step -1 reverse order"
      ],
      "metadata": {
        "colab": {
          "base_uri": "https://localhost:8080/"
        },
        "id": "UDWc2BGsmXJN",
        "outputId": "e9d5ca3f-3246-46eb-8f5b-07cba866cf27"
      },
      "execution_count": null,
      "outputs": [
        {
          "output_type": "stream",
          "name": "stdout",
          "text": [
            "olleh\n"
          ]
        }
      ]
    },
    {
      "cell_type": "code",
      "source": [
        "def reverse_string(s):\n",
        "    reversed_s = \"\"\n",
        "    for char in s:\n",
        "        reversed_s = char + reversed_s #\"e\" + \"h\" = \"eh\" #2nd iter: takes 2nd-to-last char of s and adds it before the 1st character.\n",
        "    return reversed_s\n",
        "\n",
        "# Test the function with some examples\n",
        "print(reverse_string(\"hello\"))  # \"olleh\"\n",
        "\n",
        "'''\n",
        "In the first iteration: reversed_s = \"h\" + \"\" = \"h\"\n",
        "In the second iteration: reversed_s = \"e\" + \"h\" = \"eh\"\n",
        "In the third iteration: reversed_s = \"l\" + \"eh\" = \"leh\"\n",
        "In the fourth iteration: reversed_s = \"l\" + \"leh\" = \"lleh\"\n",
        "In the fifth iteration: reversed_s = \"o\" + \"lleh\" = \"olleh\"\n",
        "'''"
      ],
      "metadata": {
        "colab": {
          "base_uri": "https://localhost:8080/"
        },
        "id": "RJdfDlR8CFpz",
        "outputId": "133b4743-ef0a-46b5-f78a-c5eee94ddf59"
      },
      "execution_count": null,
      "outputs": [
        {
          "output_type": "stream",
          "name": "stdout",
          "text": [
            "olleh\n"
          ]
        }
      ]
    },
    {
      "cell_type": "code",
      "source": [
        "# palindrome\n",
        "def palindrome(s):\n",
        "  s=s.replace(\" \",\"\").lower()\n",
        "  return s==s[::-1]\n",
        "\n",
        "\n",
        "print(palindrome(\"racecar\"))\n"
      ],
      "metadata": {
        "colab": {
          "base_uri": "https://localhost:8080/"
        },
        "id": "vJmtbbkyo6dF",
        "outputId": "7c1a2384-5430-4549-a55b-0da0f8cf6cdd"
      },
      "execution_count": null,
      "outputs": [
        {
          "output_type": "stream",
          "name": "stdout",
          "text": [
            "True\n"
          ]
        }
      ]
    },
    {
      "cell_type": "code",
      "source": [
        "#factorial\n",
        "def factorial (n):\n",
        "  if n == 0 or n == 1:\n",
        "    return 1\n",
        "  else:\n",
        "    j=1\n",
        "    for i in range (1,n+1):\n",
        "      j*=i\n",
        "    return j\n",
        "\n",
        "print(factorial (3))\n"
      ],
      "metadata": {
        "colab": {
          "base_uri": "https://localhost:8080/"
        },
        "id": "S2jRmVTtqOAP",
        "outputId": "8498b50b-6aea-440c-c8b3-8d4f352e5f3f"
      },
      "execution_count": null,
      "outputs": [
        {
          "output_type": "stream",
          "name": "stdout",
          "text": [
            "6\n"
          ]
        }
      ]
    },
    {
      "cell_type": "code",
      "source": [
        "#factorial\n",
        "def factorial (n):\n",
        "  if n == 0 or n == 1:\n",
        "    return 1\n",
        "  else:\n",
        "    return n*factorial(n-1)\n",
        "\n",
        "print(factorial (3))"
      ],
      "metadata": {
        "colab": {
          "base_uri": "https://localhost:8080/"
        },
        "id": "fRv1d11Rz6qX",
        "outputId": "7bd6db4c-c83c-4397-83d2-eb8793ab0e84"
      },
      "execution_count": null,
      "outputs": [
        {
          "output_type": "stream",
          "name": "stdout",
          "text": [
            "6\n"
          ]
        }
      ]
    },
    {
      "cell_type": "code",
      "source": [
        "'''\n",
        "for char in s -> print char: iterate over each element in the iterable s\n",
        "for i in range(len(s)-> print s[i] :This loop iterates over the indices of the iterable s using range(len(s)), where range(len(s)) generates a sequence of numbers from 0 to len(s) - 1\n",
        "for - in range(2): This loop is used when you don't need the loop variable and only want to repeat a block of code n times.\n",
        "Hello!\n",
        "Hello!\n",
        "\n",
        "for index , fruit in enumerate(friuts) -> you want both the index and the value of each element in the iterable s\n",
        "                            -> It assigns the index of the element to i and the element itself to num in each iteration.\n",
        "fruits = [\"apple\", \"banana\", \"cherry\"]\n",
        "Index: 0, Fruit: apple\n",
        "Index: 1, Fruit: banana\n",
        "\n",
        "Index: 0, Value: h\n",
        "Index: 1, Value: e\n",
        "\n",
        "\n",
        "for key, value in dictionary.items(): This loop iterates over the key-value pairs in a dictionary.\n",
        "person = {\"name\": \"John\", \"age\": 30, \"city\": \"New York\"}\n",
        "\n",
        "name: Jack\n",
        "age:20\n",
        "city:Vancouver\n",
        "\n",
        "my_dict = {'a': 1, 'b': 2, 'c': 3}\n",
        "for key, value in my_dict.items():\n",
        "    print(key, value)\n",
        "a 1\n",
        "b 2\n",
        "c 3\n",
        "for key in my_dict:\n",
        "    print(key)\n",
        "a\n",
        "b\n",
        "c\n",
        "for key in my_dict:\n",
        "    print(key, my_dict[key])\n",
        "a 1\n",
        "b 2\n",
        "c 3"
      ],
      "metadata": {
        "id": "ff5jqJGpEsQR"
      },
      "execution_count": null,
      "outputs": []
    },
    {
      "cell_type": "code",
      "execution_count": null,
      "metadata": {
        "colab": {
          "base_uri": "https://localhost:8080/"
        },
        "id": "51_AMb1DktIn",
        "outputId": "5d334a19-fbdc-40b7-a79f-5b56a0cd0151"
      },
      "outputs": [
        {
          "output_type": "stream",
          "name": "stdout",
          "text": [
            "{'a': 2, 'b': 4, 'c': 2}\n"
          ]
        }
      ],
      "source": [
        "# Write a function that takes a string as input and returns a dictionary with the frequency of each character in the string.\n",
        "\n",
        "def freq_c(s):\n",
        "  freq={}\n",
        "  for char in s:\n",
        "    if char in freq:\n",
        "      freq[char]+=1\n",
        "\n",
        "    else:\n",
        "      freq[char]=1\n",
        "\n",
        "  return freq\n",
        "\n",
        "s=\"abcabcbb\"\n",
        "print(freq_c(s))\n"
      ]
    },
    {
      "cell_type": "code",
      "source": [
        "# find 1st non-repeated character in a string; if all characters are repeated return None\n",
        "\n",
        "def first_non_repeated_char(s):\n",
        "  char_count={}\n",
        "  for char in s:\n",
        "    if char in char_count:\n",
        "      char_count[char]+=1\n",
        "    else:\n",
        "      char_count[char]=1\n",
        "\n",
        "  for char in s:\n",
        "    if char_count[char]==1:\n",
        "      return char\n",
        "  return None\n",
        "\n",
        "\n",
        "# Test the function with some examples\n",
        "print(first_non_repeated_char(\"abcab\"))  # Corrected Output: \"c\""
      ],
      "metadata": {
        "colab": {
          "base_uri": "https://localhost:8080/"
        },
        "id": "eStgjJR3Bw4d",
        "outputId": "d8f878c6-44fa-4a6e-aaea-9e477651819e"
      },
      "execution_count": null,
      "outputs": [
        {
          "output_type": "stream",
          "name": "stdout",
          "text": [
            "c\n"
          ]
        }
      ]
    },
    {
      "cell_type": "code",
      "source": [
        "# Question: Write a Python function to find the maximum occurring character in a given string.\n",
        "def max_occuring_char(string):\n",
        "    # Dictionary to store character counts\n",
        "    char_count = {}\n",
        "\n",
        "    # Count occurrences of each character\n",
        "    for char in string:\n",
        "        if char in char_count:\n",
        "            char_count[char] += 1\n",
        "        else:\n",
        "            char_count[char] = 1\n",
        "\n",
        "    # Find the character with maximum occurrence\n",
        "    max_char = ''\n",
        "    max_count = 0\n",
        "    for char, count in char_count.items(): # for char in char_count:\n",
        "        if count > max_count: # if char_count[char]>max_count\n",
        "            max_char = char\n",
        "            max_count = count # max_count = char_count[char]\n",
        "\n",
        "    return max_char\n",
        "\n",
        "# Test the function\n",
        "input_string = \"hello\"\n",
        "print(\"Maximum occurring character:\", max_occuring_char(input_string))\n",
        "\n"
      ],
      "metadata": {
        "colab": {
          "base_uri": "https://localhost:8080/"
        },
        "id": "Zpx2STkme31c",
        "outputId": "1a011874-be88-468f-c7f4-9406f160b23d"
      },
      "execution_count": null,
      "outputs": [
        {
          "output_type": "stream",
          "name": "stdout",
          "text": [
            "Maximum occurring character: l\n"
          ]
        }
      ]
    },
    {
      "cell_type": "code",
      "source": [
        "# Question: Implement a function to find the kth largest element in an array.\n",
        "def find(nums,k):\n",
        "    nums.sort(reverse=True) # descending order 6 4 3 ...\n",
        "    return nums[k-1]\n",
        "k=2\n",
        "print(find([1,2,6,3,2,4,2],k))"
      ],
      "metadata": {
        "colab": {
          "base_uri": "https://localhost:8080/"
        },
        "id": "f8SM1MHODvZ9",
        "outputId": "7a8db4cf-7f3b-4129-ca63-0f08a1a4fa80"
      },
      "execution_count": null,
      "outputs": [
        {
          "output_type": "stream",
          "name": "stdout",
          "text": [
            "4\n"
          ]
        }
      ]
    },
    {
      "cell_type": "code",
      "source": [
        "# Question: Write a function to remove duplicates from a list.\n",
        "def remove_duplicates(lst):\n",
        "  return list(set(lst))  #Converts the input list lst into a set. Since sets do not allow duplicate elements, any duplicate elements in the list will be removed.\n",
        "\n",
        "# Example usage:\n",
        "print(remove_duplicates([1, 2, 2, 3, 4, 4, 5]))  # Output: [1, 2, 3, 4, 5]\n"
      ],
      "metadata": {
        "colab": {
          "base_uri": "https://localhost:8080/"
        },
        "id": "p4nOE_7OHtnn",
        "outputId": "d2b1f60f-0488-4ac4-f936-ab97eaeef7b1"
      },
      "execution_count": null,
      "outputs": [
        {
          "output_type": "stream",
          "name": "stdout",
          "text": [
            "[1, 2, 3, 4, 5]\n"
          ]
        }
      ]
    },
    {
      "cell_type": "code",
      "source": [
        "def find_intersection(lst1,lst2):\n",
        "  return list(set(lst1) & set(lst2)) # intersection : commen elements\n",
        "\n",
        "\n",
        "# Example usage:\n",
        "print(find_intersection([1, 2, 3, 4], [3, 4, 5, 6]))  # Output: [3, 4]"
      ],
      "metadata": {
        "colab": {
          "base_uri": "https://localhost:8080/"
        },
        "id": "0VZxXfbQIfsH",
        "outputId": "1866ab5f-3dd0-438d-a2bc-d5ef4f4631f6"
      },
      "execution_count": null,
      "outputs": [
        {
          "output_type": "stream",
          "name": "stdout",
          "text": [
            "[3, 4]\n"
          ]
        }
      ]
    },
    {
      "cell_type": "code",
      "source": [
        "def has_unique_characters(s):\n",
        "    return len(set(s)) == len(s)\n",
        "\n",
        "# Example usage:\n",
        "print(has_unique_characters(\"abcde\"))  # Output: True"
      ],
      "metadata": {
        "colab": {
          "base_uri": "https://localhost:8080/"
        },
        "id": "e-HqNKq1JSoD",
        "outputId": "ae67c1b1-38ae-40db-cd95-ea7ed00f5102"
      },
      "execution_count": null,
      "outputs": [
        {
          "output_type": "stream",
          "name": "stdout",
          "text": [
            "True\n"
          ]
        }
      ]
    },
    {
      "cell_type": "code",
      "source": [
        "def are_anagrams(s1, s2):\n",
        "    return sorted(s1) == sorted(s2)  #['e', 'i', 'l', 'n', 's', 't']\n",
        "\n",
        "\n",
        "# Example usage:\n",
        "print(are_anagrams(\"listen\", \"silent\"))  # Output: True\n"
      ],
      "metadata": {
        "colab": {
          "base_uri": "https://localhost:8080/"
        },
        "id": "ccGNTzRBKcwf",
        "outputId": "1f9d6e20-dac1-41f9-ad4b-f0b178a708d2"
      },
      "execution_count": null,
      "outputs": [
        {
          "output_type": "stream",
          "name": "stdout",
          "text": [
            "True\n"
          ]
        }
      ]
    },
    {
      "cell_type": "code",
      "source": [
        "#abcabcbb find return longest substring without any repretition ; use simple coding not profesional\n",
        "def longest_substring(s):\n",
        "    char_index = {}\n",
        "    start = 0\n",
        "    max_length = 0\n",
        "\n",
        "    for end in range(len(s)): # for end, char in enumerate(s):\n",
        "        if s[end] in char_index and char_index[s[end]] >= start: # if char in char_index:\n",
        "            start = char_index[s[end]] + 1 #start = max(start, char_index[char] + 1)\n",
        "        char_index[s[end]] = end #char_index[char] = end\n",
        "        max_length = max(max_length, end - start + 1)\n",
        "        print(\"end:\",end,\"start:\",start,\"char:\", s[end],\"char_index\",char_index[s[end]], \"max:\",max_length)\n",
        "    return max_length\n",
        "print(longest_substring(\"abcabcbb\"))\n",
        "# s[end] will give you the value located at the end index of the list.\n",
        "#If end = 0, then s[end] will give 'a'.\n",
        "# char_index[s[end]]: use the value s[end] as a key to access the corresponding value in the dictionary char_index\n",
        "#If end = 0: char_index[s[end]]: char_index['a'].\n"
      ],
      "metadata": {
        "colab": {
          "base_uri": "https://localhost:8080/"
        },
        "id": "idPd-P98z18-",
        "outputId": "b1041460-e976-4232-b5ce-404e37fffaf5"
      },
      "execution_count": null,
      "outputs": [
        {
          "output_type": "stream",
          "name": "stdout",
          "text": [
            "end: 0 start: 0 char: a char_index 0 max: 1\n",
            "end: 1 start: 0 char: b char_index 1 max: 2\n",
            "end: 2 start: 0 char: c char_index 2 max: 3\n",
            "end: 3 start: 1 char: a char_index 3 max: 3\n",
            "end: 4 start: 2 char: b char_index 4 max: 3\n",
            "end: 5 start: 3 char: c char_index 5 max: 3\n",
            "end: 6 start: 5 char: b char_index 6 max: 3\n",
            "end: 7 start: 7 char: b char_index 7 max: 3\n",
            "3\n"
          ]
        }
      ]
    },
    {
      "cell_type": "code",
      "source": [
        "def longest_substring_list(s):\n",
        "    char_index = {}\n",
        "    start = 0\n",
        "    max_length = 0\n",
        "    result = [] #  list of strings\n",
        "\n",
        "    for end, char in enumerate(s):\n",
        "        if char in char_index and char_index[char] >= start:\n",
        "            start = char_index[char] + 1\n",
        "\n",
        "        char_index[char] = end\n",
        "        length = end - start + 1\n",
        "\n",
        "        if length > max_length:\n",
        "            max_length = length\n",
        "            result = [s[start:end + 1]]  # [s[start:end + 1]] creates a list with a single element, which is the substring from index start to index end of the string s.\n",
        "        elif length == max_length and s[start:end + 1] not in result:   # s[start:end + 1] is substring\n",
        "            result.append(s[start:end + 1])\n",
        "\n",
        "    return result\n",
        "\n",
        "# Test the function\n",
        "s = \"abcabcbb\"\n",
        "print(\"Longest substring(s) without repeating characters:\", longest_substring_list(s))\n"
      ],
      "metadata": {
        "colab": {
          "base_uri": "https://localhost:8080/"
        },
        "id": "dCatd0MH7MRI",
        "outputId": "4814558d-849c-4580-a831-356876b724b3"
      },
      "execution_count": null,
      "outputs": [
        {
          "output_type": "stream",
          "name": "stdout",
          "text": [
            "Longest substring(s) without repeating characters: ['abc', 'bca', 'cab']\n"
          ]
        }
      ]
    },
    {
      "cell_type": "code",
      "source": [
        "# Question: Write a function to find the longest common prefix among an array of strings.\n",
        "def longest_common_prefix(strs):\n",
        "    if not strs:\n",
        "        return \"\"\n",
        "\n",
        "    # Assume the first string is the prefix\n",
        "    prefix = strs[0]\n",
        "\n",
        "    for string in strs[1:]:\n",
        "        # Keep checking characters until the prefix is no longer a prefix of the current string\n",
        "        while string.find(prefix) != 0: # while not s.startswith(prefix):\n",
        "            prefix = prefix[:-1] #get a substring of prefix with the last character removed.\n",
        "\n",
        "            # If prefix becomes empty, there is no common prefix\n",
        "            if not prefix:\n",
        "                return \"\"\n",
        "\n",
        "    return prefix\n",
        "# Example usage:\n",
        "print(longest_common_prefix([\"flower\", \"flow\", \"flight\"]))  # Output: \"fl\"\n",
        "\n",
        "# Compare the characters of each string with the current prefix\n",
        "# If the string doesn't start with the current prefix\n",
        "# remove the last character from the prefix and try again"
      ],
      "metadata": {
        "colab": {
          "base_uri": "https://localhost:8080/"
        },
        "id": "X9cpdS7jGDQx",
        "outputId": "f415ed18-8287-4b5e-8163-6daac951505e"
      },
      "execution_count": null,
      "outputs": [
        {
          "output_type": "stream",
          "name": "stdout",
          "text": [
            "fl\n"
          ]
        }
      ]
    },
    {
      "cell_type": "code",
      "source": [
        "# Question: Implement a function to reverse a list in-place.\n",
        "\n",
        "def reverse_list(lst):\n",
        "    left, right = 0, len(lst) - 1\n",
        "    while left < right:\n",
        "        lst[left], lst[right] = lst[right], lst[left]\n",
        "        left += 1\n",
        "        right -= 1\n",
        "\n",
        "# Example:\n",
        "my_list = [1, 2, 3, 4, 5]\n",
        "reverse_list(my_list)\n",
        "print(my_list)  # Output: [5, 4, 3, 2, 1]\n"
      ],
      "metadata": {
        "colab": {
          "base_uri": "https://localhost:8080/"
        },
        "id": "BGY3NIcxKlFM",
        "outputId": "35524453-ba0b-4064-cdb6-f39090d30497"
      },
      "execution_count": null,
      "outputs": [
        {
          "output_type": "stream",
          "name": "stdout",
          "text": [
            "[5, 4, 3, 2, 1]\n"
          ]
        }
      ]
    },
    {
      "cell_type": "code",
      "source": [
        "# Question: Find the maximum element in an array.\n",
        "def find_max(arr):\n",
        "  max=arr[0]\n",
        "  for i in arr:\n",
        "    if i>max:\n",
        "      max=i\n",
        "  return max\n",
        "\n",
        "# Example:\n",
        "arr = [3, 7, 2, 9, 4]\n",
        "print(find_max(arr))  # Output: 9"
      ],
      "metadata": {
        "colab": {
          "base_uri": "https://localhost:8080/"
        },
        "id": "euGD8OR-MN3O",
        "outputId": "ca12168e-bbb1-4a50-9032-0849acea1633"
      },
      "execution_count": null,
      "outputs": [
        {
          "output_type": "stream",
          "name": "stdout",
          "text": [
            "9\n"
          ]
        }
      ]
    },
    {
      "cell_type": "code",
      "source": [
        "def remove_duplicates(arr):\n",
        "    return sorted(set(arr))\n",
        "\n",
        "# Example:\n",
        "arr = [1, 5, 2, 2, 3, 4, 4, 5]\n",
        "print(remove_duplicates(arr))  # Output: [1, 2, 3, 4, 5]"
      ],
      "metadata": {
        "colab": {
          "base_uri": "https://localhost:8080/"
        },
        "id": "0Vtv26nlNXpj",
        "outputId": "bb317fc8-768a-4353-a913-9f682de543a2"
      },
      "execution_count": null,
      "outputs": [
        {
          "output_type": "stream",
          "name": "stdout",
          "text": [
            "[1, 2, 3, 4, 5]\n"
          ]
        }
      ]
    },
    {
      "cell_type": "code",
      "source": [
        "# __init__ constructor: get called when an object is created\n",
        "\n",
        "class Node:\n",
        "    def __init__(self, data):\n",
        "        self.data = data\n",
        "        self.next = None #.next is a reference or a pointer to the next node in the linked list.\n",
        "#.next holds the memory address of the next node in the sequence.\n",
        "class LinkedList:\n",
        "    def __init__(self):\n",
        "        self.head = None\n",
        "\n",
        "    def append(self, data):\n",
        "        new_node = Node(data)\n",
        "        if not self.head:\n",
        "            self.head = new_node\n",
        "            return\n",
        "        current = self.head\n",
        "        while current.next:\n",
        "            current = current.next\n",
        "        current.next = new_node\n",
        "\n",
        "    # Function to print the linked list\n",
        "    def print_linked_list(self):\n",
        "        current = self.head\n",
        "        while current:\n",
        "            print(current.data, end=\" -> \")\n",
        "            #print the data of each node in the linked list,\n",
        "            #followed by an arrow (->) to indicate the next node in the sequence.\n",
        "            current = current.next\n",
        "        print(\"None\")\n",
        "\n",
        "# Question: Write a function to add a new node to the end of a linked list.\n",
        "\n",
        "# Answer:\n",
        "# To add a new node to the end of a linked list, we traverse the list until we reach the last node,\n",
        "# then we set the next pointer of the last node to point to the new node.\n",
        "\n",
        "# Example run:\n",
        "if __name__ == \"__main__\":\n",
        "    # Create a linked list\n",
        "    linked_list = LinkedList()\n",
        "\n",
        "    # Append some elements to the linked list\n",
        "    linked_list.append(1)\n",
        "    linked_list.append(2)\n",
        "    linked_list.append(3)\n",
        "    linked_list.append(4)\n",
        "\n",
        "    # Print the original linked list\n",
        "    print(\"Original linked list:\")\n",
        "    linked_list.print_linked_list()\n",
        "\n",
        "    # Output:\n",
        "    # Original linked list:\n",
        "    # 1 -> 2 -> 3 -> 4 -> None\n"
      ],
      "metadata": {
        "colab": {
          "base_uri": "https://localhost:8080/"
        },
        "id": "Ytw275FCgOMm",
        "outputId": "d95cc42b-b193-4504-ecb5-9beb2344a59d"
      },
      "execution_count": null,
      "outputs": [
        {
          "output_type": "stream",
          "name": "stdout",
          "text": [
            "Original linked list:\n",
            "1 -> 2 -> 3 -> 4 -> None\n"
          ]
        }
      ]
    },
    {
      "cell_type": "code",
      "source": [
        "# LinkedList in Python\n",
        "class Node: #define blue print for creating instances\n",
        "    def __init__(self, data): # self is used bc assign val to attrubites of curent instances of  class in init method #seld instace of the class # refer to nstance of Node class being initialized\n",
        "        self.data = data\n",
        "        self.next = None\n",
        "\n",
        "class LinkedList:\n",
        "    def __init__(self): # initialize a new linked list\n",
        "        self.head = None #  an empty list\n",
        "\n",
        "    def append(self, data): # append: method of LL class # adds a new node to the end of the linked list\n",
        "        new_node = Node(data)\n",
        "        if not self.head: #empty\n",
        "            self.head = new_node #  new node becomes the head of the linked list: head now points to the new node, and the linked list has one node.\n",
        "            return\n",
        "        current = self.head # temporary variable current : point to the head of the linked list.\n",
        "        while current.next: #  if current.next is not None: there is another node after the current one.\n",
        "            current = current.next # we update current to point to the next node in the list: we move through the linked list until we reach the last node.\n",
        "        current.next = new_node\n",
        "# When we reach the last node (current points to the last node), we assign the next attribute of the last node to the new_node\n",
        "# This effectively adds the new_node as the new last node of the linked list.\n",
        "\n",
        "    # Function to reverse a linked list\n",
        "    def reverse_linked_list(self): # self referes to current instance of ll class\n",
        "        prev = None #This variable will keep track of the previous node in the reversed linked list.\n",
        "        current = self.head\n",
        "        while current:\n",
        "            next_node = current.next\n",
        "            current.next = prev # reverses the next pointer of the current node to point to the prev node.\n",
        "            #Initially, prev is None, so the head node will now point to None as its next node.\n",
        "            prev = current\n",
        "            current = next_node\n",
        "            #The loop continues until current becomes None, which means we have reached the end of the original linked list.\n",
        "        self.head = prev\n",
        "        #Finally, after the loop completes, the head of the linked list is updated to point to the last node of the original list,\n",
        "        #which is now the first node in the reversed list. prev now points to the head of the reversed list.\n",
        "# Example usage:\n",
        "if __name__ == \"__main__\":\n",
        "    # Create a linked list\n",
        "    linked_list = LinkedList()\n",
        "    linked_list.append(1)\n",
        "    linked_list.append(2)\n",
        "    linked_list.append(3)\n",
        "    linked_list.append(4)\n",
        "\n",
        "    # Print the original linked list\n",
        "    print(\"Original linked list:\")\n",
        "    current = linked_list.head\n",
        "    while current:\n",
        "        print(current.data, end=\" -> \")\n",
        "        current = current.next\n",
        "    print(\"None\")\n",
        "\n",
        "    # Reverse the linked list\n",
        "    linked_list.reverse_linked_list()\n",
        "\n",
        "    # Print the reversed linked list\n",
        "    print(\"\\nReversed linked list:\")\n",
        "    current = linked_list.head\n",
        "    while current:\n",
        "        print(current.data, end=\" -> \")\n",
        "        current = current.next\n",
        "    print(\"None\")\n"
      ],
      "metadata": {
        "colab": {
          "base_uri": "https://localhost:8080/"
        },
        "id": "JJ8kdz4t4UIY",
        "outputId": "aae94d30-aaa8-4256-b5a8-cb4985534ce6"
      },
      "execution_count": null,
      "outputs": [
        {
          "output_type": "stream",
          "name": "stdout",
          "text": [
            "Original linked list:\n",
            "1 -> 2 -> 3 -> 4 -> None\n",
            "\n",
            "Reversed linked list:\n",
            "4 -> 3 -> 2 -> 1 -> None\n"
          ]
        }
      ]
    },
    {
      "cell_type": "code",
      "source": [
        "class ListNode:\n",
        "    def __init__(self, val=0, next=None):\n",
        "        self.val = val\n",
        "        self.next = next\n",
        "\n",
        "# Create the linked list: 1 -> 2 -> 3 -> 4 -> 5 -> None\n",
        "head = ListNode(1)\n",
        "head.next = ListNode(2)\n",
        "head.next.next = ListNode(3)\n",
        "head.next.next.next = ListNode(4)\n",
        "head.next.next.next.next = ListNode(5)\n",
        "\n",
        "# Function to print the linked list\n",
        "def print_linked_list(head):\n",
        "    current = head\n",
        "    while current:\n",
        "        print(current.val, end=\" -> \")\n",
        "        current = current.next\n",
        "    print(\"None\")\n",
        "\n",
        "# Example run\n",
        "print_linked_list(head)  # Output: 1 -> 2 -> 3 -> 4 -> 5 -> None"
      ],
      "metadata": {
        "colab": {
          "base_uri": "https://localhost:8080/"
        },
        "id": "9kF_TtZhJWzd",
        "outputId": "ecfe1e45-1838-4611-b9f4-c8b8b22a175a"
      },
      "execution_count": null,
      "outputs": [
        {
          "output_type": "stream",
          "name": "stdout",
          "text": [
            "1 -> 2 -> 3 -> 4 -> 5 -> None\n"
          ]
        }
      ]
    },
    {
      "cell_type": "code",
      "source": [
        "class ListNode:\n",
        "    def __init__(self, data=0, next=None):\n",
        "        self.data = data\n",
        "        self.next = next\n",
        "\n",
        "def reverse_linked_list(head):\n",
        "    prev = None\n",
        "    current = head\n",
        "    while current:\n",
        "        next_node = current.next\n",
        "        current.next = prev # reverses the next pointer of the current node to point to the prev node.\n",
        "        #Initially, prev is None, so the head node will now point to None as its next node.\n",
        "        prev = current\n",
        "        current = next_node\n",
        "    return prev\n",
        "\n",
        "# Example usage:\n",
        "# Create a linked list: 1 -> 2 -> 3 -> 4 -> 5 -> None\n",
        "head = ListNode(1)\n",
        "head.next = ListNode(2)\n",
        "head.next.next = ListNode(3)\n",
        "head.next.next.next = ListNode(4)\n",
        "head.next.next.next.next = ListNode(5)\n",
        "\n",
        "# Reverse the linked list\n",
        "new_head = reverse_linked_list(head)\n",
        "\n",
        "# Print the reversed linked list: 5 -> 4 -> 3 -> 2 -> 1 -> None\n",
        "current = new_head\n",
        "while current:\n",
        "    print(current.data, end=\" -> \")\n",
        "    current = current.next\n",
        "print(\"None\")\n"
      ],
      "metadata": {
        "id": "ZEViQyrruzBY",
        "colab": {
          "base_uri": "https://localhost:8080/"
        },
        "outputId": "dd9656f5-eb47-46bb-c5d4-6622b71ae6d1"
      },
      "execution_count": null,
      "outputs": [
        {
          "output_type": "stream",
          "name": "stdout",
          "text": [
            "5 -> 4 -> 3 -> 2 -> 1 -> None\n"
          ]
        }
      ]
    },
    {
      "cell_type": "code",
      "source": [
        "# Definition for singly-linked list.\n",
        "class ListNode:\n",
        "    def __init__(self, val=0, next=None):\n",
        "        self.val = val #store the node's value\n",
        "        self.next = next #reference to the next node\n",
        "\n",
        "def addTwoNumbers(l1, l2): #takes two linked lists -> return sum as a new ll\n",
        "    dummy = ListNode(0) # dummy node to act as the head of the result linked list (placeholder-not part of result)\n",
        "    current = dummy #current pointer to keep track of where we are in the result linked list\n",
        "    carry = 0 #store the carry value during addition\n",
        "\n",
        "    while l1 or l2 or carry: #The while loop continues until both l1 and l2 are empty (i.e., they have reached the end of the linked lists), and there is no carry left.\n",
        "        if l1:\n",
        "            carry += l1.val\n",
        "            l1 = l1.next\n",
        "        if l2:\n",
        "            carry += l2.val\n",
        "            l2 = l2.next\n",
        "\n",
        "        current.next = ListNode(carry % 10) #create a new node with the value = carry % 10 (= remainder of carry divided by 10.)\n",
        "         #(to get the digit part of the sum) and attach it to the current node's next.\n",
        "        current = current.next #move current to this new node.\n",
        "        carry //= 10 #We update the carry to carry divided by 10 (to get the carry for the next addition).\n",
        "#10%10=0 9%10=9 10//10=1 floor division 10/10=1 7//10=0\n",
        "    return dummy.next #we return the next node of the dummy node (head of linklist)=node7, which is the head of the result linked list.7 -> 0 -> 8\n",
        "#dummy -> 7 -> 0 -> 8 -> None not only gives us the value 7, but it also gives us the entire linked list that follows that node.\n",
        "# Helper function to print the linked list : print the values of the linked list for testing purposes.\n",
        "def printLinkedList(head):\n",
        "    current = head\n",
        "    result = []\n",
        "    while current:\n",
        "        result.append(current.val)\n",
        "        current = current.next\n",
        "    return result\n",
        "\n",
        "# Create linked list for input\n",
        "l1 = ListNode(2)\n",
        "l1.next = ListNode(4)\n",
        "l1.next.next = ListNode(3)abc\n",
        "\n",
        "l2 = ListNode(5)\n",
        "l2.next = ListNode(6)\n",
        "l2.next.next = ListNode(4)\n",
        "\n",
        "# Call the function and print the result\n",
        "result = addTwoNumbers(l1, l2)\n",
        "print(printLinkedList(result))\n"
      ],
      "metadata": {
        "colab": {
          "base_uri": "https://localhost:8080/"
        },
        "id": "1qUiBef_g-NB",
        "outputId": "8d3e3260-366a-4038-ba8f-918415325a83"
      },
      "execution_count": null,
      "outputs": [
        {
          "output_type": "stream",
          "name": "stdout",
          "text": [
            "[7, 0, 8]\n"
          ]
        }
      ]
    },
    {
      "cell_type": "code",
      "source": [
        "#Stack\n",
        "#Problem: Valid Parentheses: Given a string containing just the characters '(', ')', '{', '}', '[' and ']', determine if the input string is valid.\n",
        "#An input string is valid if:\n",
        "#Open brackets must be closed by the same type of brackets.\n",
        "#Open brackets must be closed in the correct order.\n",
        "def is_valid_parentheses(s):\n",
        "    stack = [] # empty list stack\n",
        "    mapping = {')': '(', '}': '{', ']': '['} # dictionary that helps us quickly check if a closing parenthesis corresponds to the correct opening parenthesis.\n",
        "    for char in s:\n",
        "        if char in mapping: # char )\n",
        "            if not stack or stack.pop() != mapping[char]:\n",
        "                return False\n",
        "        else:\n",
        "            stack.append(char) #If char is an opening parenthesis, it is appended to the stack.\n",
        "\n",
        "    return not stack #If the stack is not empty, it means there are unmatched opening parentheses, and the function returns False.\n",
        "#True is returned when the stack is empty at the end of the function.\n",
        "# Example usage:\n",
        "print(is_valid_parentheses(\"()[]{}\"))  # True\n",
        "print(is_valid_parentheses(\"([)]\"))    # False\n"
      ],
      "metadata": {
        "colab": {
          "base_uri": "https://localhost:8080/"
        },
        "id": "Ajq-YsQ5HgOz",
        "outputId": "9b6f16ca-f466-4c3f-c36d-57db351f591e"
      },
      "execution_count": null,
      "outputs": [
        {
          "output_type": "stream",
          "name": "stdout",
          "text": [
            "True\n",
            "False\n"
          ]
        }
      ]
    },
    {
      "cell_type": "code",
      "source": [
        "class Solution(object):\n",
        "    def isValid(self, s):\n",
        "        \"\"\"\n",
        "        :type s: str\n",
        "        :rtype: bool\n",
        "        \"\"\"\n",
        "        mapping = {'(': ')', '{': '}', '[': ']'}\n",
        "        stack = []\n",
        "\n",
        "        for char in s: # char=(\n",
        "            if char in mapping:\n",
        "                stack.append(char)\n",
        "            else: # not char or key but )\n",
        "                if not stack or mapping[stack.pop()] != char:\n",
        "                    return False\n",
        "        return not stack # not stack = stack is empty , all are matched, return true\n",
        "sol=Solution()\n",
        "print(sol.isValid(\"()[]{}\"))  # True\n",
        "print(sol.isValid(\"([)]\"))    # False"
      ],
      "metadata": {
        "colab": {
          "base_uri": "https://localhost:8080/"
        },
        "id": "J0ffR11T-9DG",
        "outputId": "666ac611-9c91-4f29-d8b5-b970222d69f3"
      },
      "execution_count": null,
      "outputs": [
        {
          "output_type": "stream",
          "name": "stdout",
          "text": [
            "True\n",
            "False\n"
          ]
        }
      ]
    },
    {
      "cell_type": "code",
      "source": [
        "#Queue\n",
        "#Problem: Implement Queue using Stacks\n",
        "#Implement a first-in-first-out (FIFO) queue using only two stacks.\n",
        "#The implemented queue should support all the functions of a normal queue (enqueue, dequeue, peek, isEmpty).\n",
        "class MyQueue:\n",
        "    def __init__(self):\n",
        "        self.stack1 = []\n",
        "        self.stack2 = []\n",
        "\n",
        "    def enqueue(self, x):\n",
        "        self.stack1.append(x)\n",
        "\n",
        "    def dequeue(self):\n",
        "        if not self.stack2:\n",
        "            while self.stack1:\n",
        "                self.stack2.append(self.stack1.pop())\n",
        "        return self.stack2.pop()\n",
        "\n",
        "    def peek(self): #\"peek\" refers to looking at the top element of the stack without removing it.\n",
        "        if not self.stack2:\n",
        "            while self.stack1:\n",
        "                self.stack2.append(self.stack1.pop())\n",
        "        return self.stack2[-1] # The code would return the top element of stack2\n",
        "\n",
        "    def isEmpty(self):\n",
        "        return not self.stack1 and not self.stack2\n",
        "\n",
        "# Example usage:\n",
        "queue = MyQueue()\n",
        "queue.enqueue(1)\n",
        "queue.enqueue(2)\n",
        "print(queue.peek())     # 1\n",
        "print(queue.dequeue())  # 1\n",
        "print(queue.isEmpty())  # False\n",
        "\n",
        "\n"
      ],
      "metadata": {
        "colab": {
          "base_uri": "https://localhost:8080/"
        },
        "id": "0bKG7HDsHzPY",
        "outputId": "8208db8b-5a97-44a0-a7bf-0e69cc0d8ed9"
      },
      "execution_count": null,
      "outputs": [
        {
          "output_type": "stream",
          "name": "stdout",
          "text": [
            "1\n",
            "1\n",
            "False\n"
          ]
        }
      ]
    },
    {
      "cell_type": "code",
      "source": [
        "# Binary Search is a searching algorithm used to find the position of a target value within a sorted array.\n",
        "# It works by repeatedly dividing the search interval in half.\n",
        "\n",
        "def binary_search(arr, target):\n",
        "    low = 0\n",
        "    high = len(arr) - 1\n",
        "\n",
        "    while low <= high:\n",
        "        mid = (low + high) // 2\n",
        "        if arr[mid] == target:\n",
        "            return mid\n",
        "        elif arr[mid] < target:\n",
        "            low = mid + 1\n",
        "        else:\n",
        "            high = mid - 1\n",
        "\n",
        "    return -1  #  the target element is not present in the array being searched.\n",
        "\n",
        "# Example Run of Binary Search:\n",
        "# Sorted array\n",
        "arr = [1, 3, 5, 7, 9, 11, 13]\n",
        "\n",
        "# Target value to search for\n",
        "target = 7\n",
        "\n",
        "# Call the binary search function\n",
        "result = binary_search(arr, target)\n",
        "\n",
        "if result != -1:\n",
        "    print(f\"Element found at index {result}\")\n",
        "else:\n",
        "    print(\"Element not found\")\n",
        "\n"
      ],
      "metadata": {
        "colab": {
          "base_uri": "https://localhost:8080/"
        },
        "id": "Jkt0xrBdVfV3",
        "outputId": "e8a66284-51a8-4d3e-9e12-ddfd159241a4"
      },
      "execution_count": null,
      "outputs": [
        {
          "output_type": "stream",
          "name": "stdout",
          "text": [
            "Element found at index 3\n"
          ]
        }
      ]
    },
    {
      "cell_type": "code",
      "source": [
        "# Sorting Algorithm: Bubble Sort\n",
        "def bubble_sort(arr):\n",
        "    n = len(arr)\n",
        "    for i in range(n): #i represents the number of elements that have been sorted at the end of the list.\n",
        "        for j in range(0, n-i-1):# iterates through the unsorted portion of the list.\n",
        "            if arr[j] > arr[j+1]:\n",
        "                arr[j], arr[j+1] = arr[j+1], arr[j]\n",
        "\n",
        "#for j in range(0, n-i-1): iterate through the unsorted portion of the list and perform comparisons and\n",
        "#swaps to move the largest elements to their correct positions. This helps in gradually sorting the entire list.\n",
        "# Example Run of Bubble Sort:\n",
        "# Unsorted array\n",
        "arr = [64, 34, 25, 12, 22, 11, 90]\n",
        "\n",
        "# Call the bubble sort function\n",
        "bubble_sort(arr)\n",
        "\n",
        "# Print the sorted array\n",
        "print(\"Sorted array:\", arr)\n"
      ],
      "metadata": {
        "colab": {
          "base_uri": "https://localhost:8080/"
        },
        "id": "Zy8-I-d8WoCX",
        "outputId": "aaa0dd3b-4f8f-4f4e-bab4-22f741fa1daf"
      },
      "execution_count": null,
      "outputs": [
        {
          "output_type": "stream",
          "name": "stdout",
          "text": [
            "Sorted array: [11, 12, 22, 25, 34, 64, 90]\n"
          ]
        }
      ]
    },
    {
      "cell_type": "code",
      "source": [
        "'''\n",
        "1. Data Structures:\n",
        "Lists, Arrays, and Strings\n",
        "Linked Lists\n",
        "Stacks and Queues\n",
        "Trees and Graphs\n",
        "Hash Tables\n",
        "2. Algorithms:\n",
        "Sorting Algorithms (e.g., Merge Sort, Quick Sort)\n",
        "Searching Algorithms (e.g., Binary Search)\n",
        "Recursion and Dynamic Programming\n",
        "Graph Traversal Algorithms (e.g., Breadth-First Search, Depth-First Search)\n",
        "Greedy Algorithms\n",
        "Bit Manipulation\n",
        "'''"
      ],
      "metadata": {
        "id": "PVg4WFgHXExI"
      },
      "execution_count": null,
      "outputs": []
    },
    {
      "cell_type": "code",
      "source": [
        "class TreeNode:\n",
        "    def __init__(self, val=0, left=None, right=None):\n",
        "        self.val = val\n",
        "        self.left = left #reference to left child nde\n",
        "        self.right = right\n",
        "\n",
        "def max_depth(root, depth=1):\n",
        "    if not root:\n",
        "        #print(f\"Depth at Node {root}: {depth-1}\")\n",
        "        return 0 #If root is None, it means the tree has no nodes (is empty), so the depth at this point is 0.\n",
        "    left_depth = max_depth(root.left, depth+1)\n",
        "    right_depth = max_depth(root.right, depth+1)\n",
        "    #print(f\"Depth at Node {root}: {max(left_depth, right_depth)}\") #left_depth is 0 (depth of 9) and right_depth is 2 (depth of 20). max:2\n",
        "\n",
        "    return max(left_depth, right_depth) + 1 #We add 1 to account for the current node 3, so max_depth at 3 is 3.\n",
        "\n",
        "# Create the example tree [3,9,20,null,null,15,7]\n",
        "root = TreeNode(3)\n",
        "root.left = TreeNode(9)\n",
        "root.right = TreeNode(20)\n",
        "root.right.left = TreeNode(15)\n",
        "root.right.right = TreeNode(7)\n",
        "\n",
        "# Calculate the maximum depth\n",
        "print(\"Maximum Depth of Binary Tree:\")\n",
        "result = max_depth(root)\n",
        "print(\"\\nFinal Result:\", result)"
      ],
      "metadata": {
        "colab": {
          "base_uri": "https://localhost:8080/"
        },
        "id": "oHwfop8qm0OQ",
        "outputId": "77c368a0-6261-4107-db70-1b809876a0db"
      },
      "execution_count": null,
      "outputs": [
        {
          "output_type": "stream",
          "name": "stdout",
          "text": [
            "Maximum Depth of Binary Tree:\n",
            "Depth at Node None: 2\n",
            "Depth at Node None: 2\n",
            "Depth at Node <__main__.TreeNode object at 0x7a80fb698d90>: 0\n",
            "Depth at Node None: 3\n",
            "Depth at Node None: 3\n",
            "Depth at Node <__main__.TreeNode object at 0x7a80fb699c30>: 0\n",
            "Depth at Node None: 3\n",
            "Depth at Node None: 3\n",
            "Depth at Node <__main__.TreeNode object at 0x7a80fb699090>: 0\n",
            "Depth at Node <__main__.TreeNode object at 0x7a80fb699ab0>: 1\n",
            "Depth at Node <__main__.TreeNode object at 0x7a80fb69af80>: 2\n",
            "\n",
            "Final Result: 3\n"
          ]
        }
      ]
    },
    {
      "cell_type": "code",
      "source": [
        "# 1 Two Sum : Given an array of integers nums and an integer target, return indices of the two numbers such that they add up to target.\n",
        "\n",
        "class Solution(object):\n",
        "    def twoSum(self, nums, target):\n",
        "        \"\"\"\n",
        "        :type nums: List[int]\n",
        "        :type target: int\n",
        "        :rtype: List[int]\n",
        "        \"\"\"\n",
        "        num_indices = {}\n",
        "\n",
        "        for i, num in enumerate(nums):\n",
        "            complement = target - num\n",
        "            if complement in num_indices:\n",
        "                return [num_indices[complement], i]\n",
        "            num_indices[num] = i\n",
        "        return []\n",
        "\n",
        "sol = Solution()\n",
        "nums = [2, 7, 11, 15]\n",
        "target = 9\n",
        "print(sol.twoSum(nums, target))"
      ],
      "metadata": {
        "colab": {
          "base_uri": "https://localhost:8080/"
        },
        "id": "gmWcj16fQf3f",
        "outputId": "711c5c76-0929-412f-eb25-0659d26dff83"
      },
      "execution_count": null,
      "outputs": [
        {
          "output_type": "stream",
          "name": "stdout",
          "text": [
            "[0, 1]\n"
          ]
        }
      ]
    },
    {
      "cell_type": "code",
      "source": [
        "import unittest\n",
        "\n",
        "class Solution(object):\n",
        "    def twoSum(self, nums, target):\n",
        "        \"\"\"\n",
        "        :type nums: List[int]\n",
        "        :type target: int\n",
        "        :rtype: List[int]\n",
        "        \"\"\"\n",
        "        # Create a dictionary to store the indices of the numbers\n",
        "        num_indices = {}\n",
        "\n",
        "        # Iterate through the list of numbers\n",
        "        for i, num in enumerate(nums):\n",
        "            # Calculate the complement needed to reach the target\n",
        "            complement = target - num\n",
        "            # Check if the complement exists in the dictionary\n",
        "            if complement in num_indices:\n",
        "                # If it exists, return the indices of the current number and its complement\n",
        "                return [num_indices[complement], i]\n",
        "            # If complement doesn't exist, store the index of the current number\n",
        "            num_indices[num] = i\n",
        "        # If no solution is found, return an empty list\n",
        "        return []\n",
        "\n",
        "class TestSolution(unittest.TestCase):\n",
        "    def test_twoSum(self):\n",
        "        sol = Solution()\n",
        "\n",
        "        # Test case 1\n",
        "        nums1 = [2, 7, 11, 15]\n",
        "        target1 = 9\n",
        "        self.assertEqual(sol.twoSum(nums1, target1), [0, 1])\n",
        "\n",
        "        # Test case 2\n",
        "        nums2 = [3, 2, 4]\n",
        "        target2 = 6\n",
        "        self.assertEqual(sol.twoSum(nums2, target2), [1, 2])\n",
        "\n",
        "        # Test case 3\n",
        "        nums3 = [3, 3]\n",
        "        target3 = 6\n",
        "        self.assertEqual(sol.twoSum(nums3, target3), [0, 1])\n",
        "\n",
        "# Create an instance of the test case and run the tests\n",
        "test_case = TestSolution()\n",
        "test_suite = unittest.TestLoader().loadTestsFromModule(test_case)\n",
        "unittest.TextTestRunner().run(test_suite)\n"
      ],
      "metadata": {
        "colab": {
          "base_uri": "https://localhost:8080/"
        },
        "id": "UuFlCzr2Q58R",
        "outputId": "299347bc-79f7-43d6-e52e-f5ddffd7effb"
      },
      "execution_count": null,
      "outputs": [
        {
          "output_type": "stream",
          "name": "stderr",
          "text": [
            ".\n",
            "----------------------------------------------------------------------\n",
            "Ran 1 test in 0.003s\n",
            "\n",
            "OK\n"
          ]
        },
        {
          "output_type": "execute_result",
          "data": {
            "text/plain": [
              "<unittest.runner.TextTestResult run=1 errors=0 failures=0>"
            ]
          },
          "metadata": {},
          "execution_count": 3
        }
      ]
    },
    {
      "cell_type": "code",
      "source": [
        "# Given an integer x, return true if x is a palindrome, and false otherwise.\n",
        "\n",
        "class Solution(object):\n",
        "    def is_palindrome(self, x):\n",
        "        \"\"\"\n",
        "        :type x: int\n",
        "        :rtype: bool\n",
        "        \"\"\"\n",
        "        x=str(x)\n",
        "        return x==x[::-1]\n",
        "\n",
        "# Test cases\n",
        "print(Solution().is_palindrome(121))  # Output: True\n",
        "print(Solution().is_palindrome(-121))  # Output: False\n",
        "print(Solution().is_palindrome(10))  # Output: False"
      ],
      "metadata": {
        "colab": {
          "base_uri": "https://localhost:8080/"
        },
        "id": "pYXAW_y0YcP6",
        "outputId": "30f3d1a0-f5d6-4232-fa94-7aa3ac313a64"
      },
      "execution_count": null,
      "outputs": [
        {
          "output_type": "stream",
          "name": "stdout",
          "text": [
            "True\n",
            "False\n",
            "False\n"
          ]
        }
      ]
    },
    {
      "cell_type": "code",
      "source": [
        "# 13- Roman to Integer: Roman numerals are represented by seven different symbols: I, V, X, L, C, D and M.\n",
        "# I can be placed before V (5) and X (10) to make 4 and 9.\n",
        "# Given a roman numeral, convert it to an integer.\n",
        "\n",
        "class Solution(object):\n",
        "    def romanToInt(self, s):\n",
        "        roman_dict = {\n",
        "            'I': 1,\n",
        "            'V': 5,\n",
        "            'X': 10,\n",
        "            'L': 50,\n",
        "            'C': 100,\n",
        "            'D': 500,\n",
        "            'M': 1000\n",
        "        }\n",
        "\n",
        "        total = 0\n",
        "        prev_value = 0\n",
        "\n",
        "        for char in s:\n",
        "            value = roman_dict[char]\n",
        "\n",
        "            # If current value is greater than previous value, it means we have a subtraction case\n",
        "            if value > prev_value:\n",
        "                total += value - 2 * prev_value\n",
        "            else:\n",
        "                total += value\n",
        "\n",
        "            prev_value = value\n",
        "\n",
        "        return total\n",
        "\n",
        "# Test casesprefi\n",
        "sol = Solution()\n",
        "print(sol.romanToInt(\"IV\"))  # Output: 4\n",
        "print(sol.romanToInt(\"III\"))  # Output: 3\n",
        "#print(sol.romanToInt(\"LVIII\"))  # Output: 58 #print(sol.romanToInt(\"MCMXCIV\"))  # Output: 1994"
      ],
      "metadata": {
        "colab": {
          "base_uri": "https://localhost:8080/"
        },
        "id": "JVdVnQMqtfQ4",
        "outputId": "619f2e0a-2f71-40dd-c09e-ef34f86a651a"
      },
      "execution_count": null,
      "outputs": [
        {
          "output_type": "stream",
          "name": "stdout",
          "text": [
            "4\n",
            "3\n"
          ]
        }
      ]
    },
    {
      "cell_type": "code",
      "source": [
        "'''\n",
        "We start with total = 0 and prev_value = 0.\n",
        "\n",
        "Character \"I\":\n",
        "Value: 1\n",
        "Since there is no previous value, we add it to the total: total = total + 1 = 0 + 1 = 1\n",
        "Now, total is 1.\n",
        "\n",
        "Next, we encounter \"V\":\n",
        "\n",
        "Value: 5\n",
        "Since the current value (5) is greater than the previous value (1), we have a subtraction case:\n",
        "total += 5 - 2*1\n",
        "total += 5 - 2\n",
        "total += 3\n",
        "Now, total becomes 3.\n",
        "\n",
        "At the end of the loop, total is 3, which correctly represents the Roman numeral \"IV\" as the integer 4."
      ],
      "metadata": {
        "id": "iiTP3RLkv1Tn"
      },
      "execution_count": null,
      "outputs": []
    },
    {
      "cell_type": "code",
      "source": [
        "# 5. Longest Palindromic Substring:  Given a string s, return the longest palindromic substring in s.\n",
        "class Solution(object):\n",
        "    def longestPalindrome(self, s):\n",
        "        if len(s) <= 1:\n",
        "            return s\n",
        "\n",
        "        def expand_around_center(left, right):\n",
        "            while left >= 0 and right < len(s) and s[left] == s[right]:\n",
        "                left -= 1\n",
        "                right += 1\n",
        "            return s[left + 1:right]\n",
        "\n",
        "        max_palindrome = \"\"\n",
        "        for i in range(len(s)):\n",
        "            palindrome1 = expand_around_center(i, i)  # For odd length palindromes like \"aba\"\n",
        "            palindrome2 = expand_around_center(i, i + 1)  # For even length palindromes like \"abba\"\n",
        "\n",
        "            max_palindrome = max(max_palindrome, palindrome1, palindrome2, key=len)\n",
        "        return max_palindrome\n",
        "#key=len means that the comparison for the max function should be based on the length of the strings.\n",
        "# Example usage:\n",
        "sol = Solution()\n",
        "print(sol.longestPalindrome(\"babad\"))  # Output: \"bab\" or \"aba\"\n",
        "#print(sol.longestPalindrome(\"cbbd\"))   # Output: \"bb\"\n"
      ],
      "metadata": {
        "colab": {
          "base_uri": "https://localhost:8080/"
        },
        "id": "WsndXHPjEVzf",
        "outputId": "a8582bca-e40d-4624-fa80-d5dcf328ad5a"
      },
      "execution_count": 1,
      "outputs": [
        {
          "output_type": "stream",
          "name": "stdout",
          "text": [
            "bab\n"
          ]
        }
      ]
    },
    {
      "cell_type": "code",
      "source": [
        "#28. Find the Index of the First Occurrence in a String: Given two strings needle and haystack, return the index of the first occurrence of needle in haystack, or -1 if needle is not part of haystack.\n",
        "\n",
        "class Solution(object):\n",
        "    def strStr(self, haystack, needle):\n",
        "        \"\"\"\n",
        "        :type haystack: str\n",
        "        :type needle: str\n",
        "        :rtype: int\n",
        "        \"\"\"\n",
        "        if not needle:\n",
        "            return 0\n",
        "\n",
        "        for i in range(len(haystack) - len(needle) + 1):\n",
        "            if haystack[i:i+len(needle)] == needle:\n",
        "                return i\n",
        "\n",
        "        return -1\n",
        "solution = Solution()\n",
        "haystack = \"sadbutsad\"\n",
        "needle = \"sad\"\n",
        "print(solution.strStr(haystack, needle))"
      ],
      "metadata": {
        "colab": {
          "base_uri": "https://localhost:8080/"
        },
        "id": "2sjwa0uqw9Er",
        "outputId": "981d2974-2c2c-49bd-c728-e8717920cf42"
      },
      "execution_count": 20,
      "outputs": [
        {
          "output_type": "stream",
          "name": "stdout",
          "text": [
            "0\n"
          ]
        }
      ]
    },
    {
      "cell_type": "code",
      "source": [
        "#58. Length of Last Word\n",
        "#Given a string s consisting of words and spaces, return the length of the last word in the string.\n",
        "#A word is a maximal substring consisting of non-space characters only.\n",
        "\n",
        "class Solution(object):\n",
        "    def lengthOfLastWord(self, s):\n",
        "        \"\"\"\n",
        "        :type s: str\n",
        "        :rtype: int\n",
        "        \"\"\"\n",
        "        ln=0\n",
        "        s=s.rstrip() #removes any trailing spaces (spaces at the end) from the string s.\n",
        "        s=s[::-1]# reversing the string\n",
        "        for char in s:\n",
        "            if char!=' ':\n",
        "                ln+=1\n",
        "            elif ln>0: # already started counting the last word; encounter a space->break\n",
        "                break\n",
        "        return ln\n",
        "\n",
        ""
      ],
      "metadata": {
        "id": "ljtDfFWt8mse"
      },
      "execution_count": 21,
      "outputs": []
    },
    {
      "cell_type": "code",
      "source": [
        "# 26. Remove Duplicates from Sorted Array: Given an integer array nums sorted in non-decreasing order, remove the duplicates in-place such that each unique element appears only once. The relative order of the elements should be kept the same. Then return the number of unique elements in nums.\n",
        "\n",
        "class Solution(object):\n",
        "    def removeDuplicates(self, nums):\n",
        "        \"\"\"\n",
        "        :type nums: List[int]\n",
        "        :rtype: int\n",
        "        \"\"\"\n",
        "        if len(nums) == 0:\n",
        "            return 0\n",
        "        k=1 # Pointer for the unique elements\n",
        "        for i in range(1,len(nums)):\n",
        "\n",
        "            if nums[i]!=nums[i-1]:\n",
        "                nums[k]=nums[i]\n",
        "                k+=1\n",
        "\n",
        "        return k\n",
        "sol = Solution()\n",
        "nums = [1, 1, 2]\n",
        "k = sol.removeDuplicates(nums)\n",
        "print(\"Output:\", k, \", nums =\", nums[:k])\n"
      ],
      "metadata": {
        "colab": {
          "base_uri": "https://localhost:8080/"
        },
        "id": "FeKlr1AiF7cG",
        "outputId": "64b92a43-a014-48d4-b3f3-662e845a22bd"
      },
      "execution_count": 3,
      "outputs": [
        {
          "output_type": "stream",
          "name": "stdout",
          "text": [
            "Output: 2 , nums = [1, 2]\n"
          ]
        }
      ]
    },
    {
      "cell_type": "code",
      "source": [
        "#4. Median of Two Sorted Arrays: Given two sorted arrays nums1 and nums2 of size m and n\n",
        "# respectively, return the median of the two sorted arrays.\n",
        "class Solution(object):\n",
        "    def findMedianSortedArrays(self, nums1, nums2):\n",
        "        \"\"\"\n",
        "        :type nums1: List[int]\n",
        "        :type nums2: List[int]\n",
        "        :rtype: float\n",
        "        \"\"\"\n",
        "        # Merge the two sorted arrays\n",
        "        merged = []\n",
        "        i, j = 0, 0\n",
        "        while i < len(nums1) and j < len(nums2):\n",
        "            if nums1[i] <= nums2[j]:\n",
        "                merged.append(nums1[i])\n",
        "                i += 1\n",
        "            else:\n",
        "                merged.append(nums2[j])\n",
        "                j += 1\n",
        "\n",
        "        # Add remaining elements from nums1\n",
        "        while i < len(nums1):\n",
        "            merged.append(nums1[i])\n",
        "            i += 1\n",
        "\n",
        "        # Add remaining elements from nums2\n",
        "        while j < len(nums2):\n",
        "            merged.append(nums2[j])\n",
        "            j += 1\n",
        "\n",
        "        # Calculate the median\n",
        "        n = len(merged)\n",
        "        if n % 2 == 0:\n",
        "            return (merged[n//2 - 1] + merged[n//2]) / 2.0\n",
        "        else:\n",
        "            return merged[n//2]\n",
        "\n",
        "solution = Solution()\n",
        "nums1 = [1, 3]\n",
        "nums2 = [2]\n",
        "result = solution.findMedianSortedArrays(nums1, nums2)\n",
        "print(result)  # Output: 2.0\n"
      ],
      "metadata": {
        "colab": {
          "base_uri": "https://localhost:8080/"
        },
        "id": "2-wxnIDlinDC",
        "outputId": "96e36a47-09fc-4ef8-a63c-86057e815795"
      },
      "execution_count": 19,
      "outputs": [
        {
          "output_type": "stream",
          "name": "stdout",
          "text": [
            "2\n"
          ]
        }
      ]
    }
  ]
}